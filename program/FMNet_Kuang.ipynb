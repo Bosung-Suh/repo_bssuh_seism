{
 "cells": [
  {
   "cell_type": "markdown",
   "metadata": {},
   "source": [
    "# FMNet  \n",
    "## Required packages\n",
    "`conda install numpy scipy tqdm plyfile trimesh joblib torchvision`  \n",
    "`conda install -c pytorch-lts pytorch`  \n",
    "`conda install -c conda-forge scikit-learn`  \n",
    "`conda install -c conda-forge networkx`  "
   ]
  },
  {
   "cell_type": "code",
   "execution_count": null,
   "metadata": {},
   "outputs": [],
   "source": []
  }
 ],
 "metadata": {
  "kernelspec": {
   "display_name": "Python 3.8.13 ('fmnet_pytorch': conda)",
   "language": "python",
   "name": "python3"
  },
  "language_info": {
   "name": "python",
   "version": "3.8.13"
  },
  "orig_nbformat": 4,
  "vscode": {
   "interpreter": {
    "hash": "a2f9402ae41fa9e5b777600d2abfd30c5ec703e409414116ffbd42085910694a"
   }
  }
 },
 "nbformat": 4,
 "nbformat_minor": 2
}
